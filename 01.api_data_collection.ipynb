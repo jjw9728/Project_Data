{
 "cells": [
  {
   "cell_type": "markdown",
   "metadata": {},
   "source": [
    "## 도로 위험 상황 예보 API 데이터 수집 및 필터링"
   ]
  },
  {
   "cell_type": "code",
   "execution_count": null,
   "metadata": {},
   "outputs": [],
   "source": [
    "import requests\n",
    "import json\n",
    "from urllib.parse import urlencode, quote\n",
    "import urllib3\n",
    "\n",
    "# SSL 경고 비활성화\n",
    "urllib3.disable_warnings(urllib3.exceptions.InsecureRequestWarning)\n",
    "\n",
    "# API 정보 설정\n",
    "base_url = \"https://www.safetydata.go.kr\"\n",
    "data_name = \"/V2/api/DSSP-IF-10005\"  # 한글 경로 그대로 사용\n",
    "service_key = \"8522U83JUHE40QF2\"  # 실제 서비스 키를 입력하세요\n",
    "\n",
    "# 초기값 설정\n",
    "total_data = []  # 전체 데이터를 누적할 리스트\n",
    "max_pages = 33  # 최대 페이지 수 설정\n",
    "num_of_rows = 100  # 한 페이지당 데이터 수\n",
    "error_pages = []  # 오류가 발생한 페이지를 기록\n",
    "valid_grades = ['E', 'F', 'G', 'J', 'L']  # 필터링할 위험등급 리스트\n",
    "\n",
    "# 페이지 순회\n",
    "for page in range(1, max_pages + 1):\n",
    "    print(f\"페이지 {page} 데이터 요청 중...\")\n",
    "    payloads = {\n",
    "        \"serviceKey\": service_key,\n",
    "        \"returnType\": \"json\",\n",
    "        \"pageNo\": str(page),\n",
    "        \"numOfRows\": str(num_of_rows),\n",
    "    }\n",
    "    query_string = urlencode(payloads)\n",
    "    encoded_data_name = quote(data_name)\n",
    "    request_url = f\"{base_url}{encoded_data_name}?{query_string}\"\n",
    "\n",
    "    try:\n",
    "        response = requests.get(request_url, verify=False)\n",
    "\n",
    "        if response.status_code == 200:\n",
    "            data = response.json()\n",
    "\n",
    "            # JSON 구조 확인 및 데이터 추출\n",
    "            if \"body\" in data and isinstance(data[\"body\"], list):\n",
    "                # RSK_ELMN_GRD가 E, F, G, H, I, J, K, L인 데이터만 필터링\n",
    "                filtered_data = [item for item in data[\"body\"] if item.get(\"RSK_ELMN_GRD\") in valid_grades]\n",
    "                \n",
    "                if filtered_data:\n",
    "                    total_data.extend(filtered_data)  # 필터링된 데이터 누적\n",
    "                    print(f\"페이지 {page}: {len(filtered_data)}개 저장 완료.\")\n",
    "                else:\n",
    "                    print(f\"페이지 {page}: 필터링된 데이터가 없습니다.\")\n",
    "            else:\n",
    "                print(f\"페이지 {page}: JSON 구조가 예상과 다릅니다.\")\n",
    "                error_pages.append(page)\n",
    "        else:\n",
    "            print(f\"페이지 {page}: HTTP 오류 {response.status_code}\")\n",
    "            error_pages.append(page)\n",
    "\n",
    "    except Exception as e:\n",
    "        print(f\"페이지 {page}: 요청 중 오류 발생 - {e}\")\n",
    "        error_pages.append(page)\n",
    "\n",
    "# 데이터 저장\n",
    "if total_data:\n",
    "    output_file = \"도로위험상황예보_통합_filtered.json\"\n",
    "    with open(output_file, \"w\", encoding=\"utf-8\") as json_file:\n",
    "        json.dump(total_data, json_file, ensure_ascii=False, indent=4)\n",
    "    print(f\"총 {len(total_data)}개의 데이터가 JSON 파일 '{output_file}'로 저장되었습니다.\")\n",
    "else:\n",
    "    print(\"저장할 데이터가 없습니다. 응답 데이터를 확인하세요.\")\n",
    "\n",
    "# 오류 페이지 출력\n",
    "if error_pages:\n",
<<<<<<< HEAD
    "    print(f\"오류가 발생한 페이지: {error_pages}\")\n",
    "    "
=======
    "    print(f\"오류가 발생한 페이지: {error_pages}\")"
>>>>>>> main
   ]
  },
  {
   "cell_type": "markdown",
   "metadata": {},
   "source": [
    "## 도로 위험 상황 예보 데이터 JSON 변환 및 CSV 저장"
   ]
  },
  {
   "cell_type": "code",
   "execution_count": null,
   "metadata": {},
   "outputs": [],
   "source": [
    "import pandas as pd\n",
    "import json\n",
    "\n",
    "# JSON 파일 읽기\n",
    "json_file = \"도로위험상황예보_통합_filtered.json\"\n",
    "with open(json_file, \"r\", encoding=\"utf-8\") as file:\n",
    "    data = json.load(file)\n",
    "\n",
    "# 데이터가 리스트 형식인지 확인\n",
    "if isinstance(data, list):  # data가 리스트 형식인지 확인\n",
    "    items = data  # body가 아닌 직접 items가 리스트로 존재\n",
    "    print(f\"items가 {len(items)}개 존재합니다.\")\n",
    "    \n",
    "    # DataFrame 생성\n",
    "    df = pd.DataFrame(items)\n",
    "    \n",
    "    # 필요한 열만 선택 (필요시 수정)\n",
    "    columns_of_interest = [\n",
    "        \"RSK_ELMN_NM\", \"RSK_ELMN_GRD\", \"RN_1HR\", \"AIRTP\", \n",
    "        \"LOT\", \"LAT\", \"LOTNO_ADDR\", \"ROAD_NM_ADDR\"\n",
    "    ]\n",
    "    missing_columns = [col for col in columns_of_interest if col not in df.columns]\n",
    "    if not missing_columns:\n",
    "        df = df[columns_of_interest]\n",
    "        \n",
    "        # CSV로 저장\n",
    "        csv_file = \"도로위험상황예보.csv\"\n",
    "        df.to_csv(csv_file, index=False, encoding=\"utf-8-sig\")\n",
    "        print(f\"CSV 파일이 '{csv_file}'로 저장되었습니다.\")\n",
    "    else:\n",
    "        print(f\"다음 열이 데이터프레임에 없습니다: {missing_columns}\")\n",
    "else:\n",
    "    print(\"JSON 데이터가 리스트 형식이 아닙니다. JSON 구조를 확인하세요.\")"
   ]
  }
 ],
 "metadata": {
  "kernelspec": {
   "display_name": "Python 3",
   "language": "python",
   "name": "python3"
  },
  "language_info": {
   "name": "python",
   "version": "3.13.0"
  }
 },
 "nbformat": 4,
 "nbformat_minor": 2
}
